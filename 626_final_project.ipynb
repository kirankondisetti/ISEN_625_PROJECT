{
  "nbformat": 4,
  "nbformat_minor": 0,
  "metadata": {
    "colab": {
      "name": "project.ipynb",
      "provenance": []
    },
    "kernelspec": {
      "name": "python3",
      "display_name": "Python 3"
    },
    "language_info": {
      "name": "python"
    }
  },
  "cells": [
    {
      "cell_type": "markdown",
      "source": [
        "NAME- KIRAN KONDISETTI\n",
        "\n",
        "UIN-430000208"
      ],
      "metadata": {
        "id": "bneop20qodaF"
      }
    },
    {
      "cell_type": "markdown",
      "source": [
        "PROJECT Title- Simulation Model to Determine StaffingStrategy and Warehouse Capacity for aDistribution Center"
      ],
      "metadata": {
        "id": "o5Ni50AnnfF3"
      }
    },
    {
      "cell_type": "markdown",
      "source": [
        "SIMULATION MODEL"
      ],
      "metadata": {
        "id": "jsnW7suLnqSl"
      }
    },
    {
      "cell_type": "code",
      "metadata": {
        "id": "G4zw2p2SvJxH"
      },
      "source": [
        "from scipy.stats import poisson\n",
        "def simulation_model(max_stock,x):\n",
        "  #defining the variables\n",
        "  life_of_product=80\n",
        "  available_stock=max_stock \n",
        "  stocks =[0]*(life_of_product+1)\n",
        "  stocks[-1] = max_stock \n",
        "  stock_arrival=5\n",
        "  required_exp_date=30\n",
        "  demand = 0\n",
        "  unfullfilled_days=0\n",
        "  wastage_array=[]\n",
        "  wastage=0\n",
        "  for m in range(91):\n",
        "    for i in range(stock_arrival):\n",
        "      #calculating the wastage in the process and appending it into the array\n",
        "      wastage += sum(stocks[:required_exp_date])\n",
        "      wastage_array.append(wastage)\n",
        "      # simulating the distribution of the demand\n",
        "      day_demand = poisson.rvs(mu=150)\n",
        "      demand+= day_demand\n",
        "      available_stock -= wastage\n",
        "      # when avaialable stock is less than daydemand\n",
        "      if available_stock < day_demand:\n",
        "        unfullfilled_days += 1\n",
        "        available_stock = 0\n",
        "      else:\n",
        "        available_stock-=day_demand\n",
        "      #discarding the stock have expiry date less than or equal to 30\n",
        "      for j in range(len(stocks)-1,required_exp_date-1,-1):\n",
        "        if stocks[j] >= day_demand:\n",
        "          stocks[j] -= day_demand\n",
        "          day_demand = 0\n",
        "          break\n",
        "        else:\n",
        "          day_demand -= stocks[j]\n",
        "          stocks[j] = 0\n",
        "      for k in range(1, len(stocks)):\n",
        "        stocks[k-1] = stocks[k]\n",
        "      stocks[-1] = 0\n",
        "    if available_stock == 0:\n",
        "      stocks[-1] = max_stock\n",
        "    #calculating the wastage\n",
        "    else:\n",
        "      stocks[-1] = demand + wastage\n",
        "    wastage = 0\n",
        "    for l in range(required_exp_date):\n",
        "      stocks[l] = 0\n",
        "    available_stock = max_stock\n",
        "  #returning the metrics\n",
        "  return   wastage_array,unfullfilled_days\n",
        "\n"
      ],
      "execution_count": 1,
      "outputs": []
    },
    {
      "cell_type": "markdown",
      "source": [
        "SIMULATING THE MODEL OVER VARYING WAREHOUSE CAPACITY"
      ],
      "metadata": {
        "id": "R022plIHnzDj"
      }
    },
    {
      "cell_type": "code",
      "metadata": {
        "id": "SpRbqQQOkbHS"
      },
      "source": [
        "max_stock = [400,450,500,550,600,650,700,750,800,850,900,950,1000,1100,1200,1300,1400]\n",
        "stock_arrival = [5]\n",
        "results=[]\n",
        "temp = []\n",
        "for i in range(len(max_stock)):\n",
        "  for j in range(len(stock_arrival)):\n",
        "    a,b = simulation_model(max_stock[i],stock_arrival[j])\n",
        "    temp.append([sum(a),b])\n",
        "  results.append(temp)\n",
        "  temp=[]\n",
        "  \n",
        "   \n"
      ],
      "execution_count": 2,
      "outputs": []
    },
    {
      "cell_type": "markdown",
      "source": [
        "GRAPHS"
      ],
      "metadata": {
        "id": "WVODzTK1n2B6"
      }
    },
    {
      "cell_type": "code",
      "metadata": {
        "id": "ir0UjRlJleNM"
      },
      "source": [
        "wastage_graph=[]\n",
        "unfulfilled_graph=[]\n",
        "for i in range(len(max_stock)):\n",
        "  for j in range(len(stock_arrival)):\n",
        "    wastage_graph.append(results[i][j][0])\n",
        "    unfulfilled_graph.append(results[i][j][1])\n",
        "\n",
        "    \n"
      ],
      "execution_count": 3,
      "outputs": []
    },
    {
      "cell_type": "markdown",
      "source": [
        "WAREHOUSE CAPACITY VS WASTAGE STOCK"
      ],
      "metadata": {
        "id": "NhlE43j3n9s7"
      }
    },
    {
      "cell_type": "code",
      "metadata": {
        "colab": {
          "base_uri": "https://localhost:8080/",
          "height": 294
        },
        "id": "0WRASGElsau9",
        "outputId": "3ae997d6-7618-4689-bbd8-40e72fef8c28"
      },
      "source": [
        "import matplotlib.pyplot as plt\n",
        "plt.plot(max_stock, wastage_graph, '*-b')\n",
        "plt.xlabel('total stock', fontsize=14)\n",
        "plt.ylabel('wastage stock', fontsize=14)\n",
        "plt.grid(True)\n",
        "plt.show()"
      ],
      "execution_count": 4,
      "outputs": [
        {
          "output_type": "display_data",
          "data": {
            "image/png": "[encoded data removed]",
            "text/plain": [
              "<Figure size 432x288 with 1 Axes>"
            ]
          },
          "metadata": {
            "needs_background": "light"
          }
        }
      ]
    },
    {
      "cell_type": "markdown",
      "source": [
        "WAREHOUSE CAPACITY VS UNFULFILLED DAYS"
      ],
      "metadata": {
        "id": "UfoGZwNQn_Kb"
      }
    },
    {
      "cell_type": "code",
      "metadata": {
        "colab": {
          "base_uri": "https://localhost:8080/",
          "height": 300
        },
        "id": "wNzqej-SsiOv",
        "outputId": "6c6575cb-8e83-4c97-937d-537996c9a238"
      },
      "source": [
        "import matplotlib.pyplot as plt\n",
        "plt.plot(max_stock, unfulfilled_graph, color='red', marker='o')\n",
        "plt.title('unfulfilled days Vs total stock', fontsize=14)\n",
        "plt.xlabel('total stock', fontsize=14)\n",
        "plt.ylabel('unfulfilled days', fontsize=14)\n",
        "plt.grid(True)\n",
        "plt.show()"
      ],
      "execution_count": 5,
      "outputs": [
        {
          "output_type": "display_data",
          "data": {
            "image/png": "[encoded data removed]",
            "text/plain": [
              "<Figure size 432x288 with 1 Axes>"
            ]
          },
          "metadata": {
            "needs_background": "light"
          }
        }
      ]
    },
    {
      "cell_type": "markdown",
      "source": [
        "3D GRAPH"
      ],
      "metadata": {
        "id": "h7D6WhVGoGEn"
      }
    },
    {
      "cell_type": "code",
      "metadata": {
        "id": "qOSUy5ZRnrrB",
        "colab": {
          "base_uri": "https://localhost:8080/",
          "height": 248
        },
        "outputId": "777446e2-3d0c-482a-cb3f-d154a317f95a"
      },
      "source": [
        "from mpl_toolkits import mplot3d\n",
        "import numpy as np\n",
        "import matplotlib.pyplot as plt\n",
        "fig = plt.figure()\n",
        "ax = plt.axes(projection='3d')\n",
        "zline = np.linspace(0, 15, 1000)\n",
        "xline = np.sin(zline)\n",
        "yline = np.cos(zline)\n",
        "ax.plot3D(xline, yline, zline, 'gray')\n",
        "zdata = max_stock\n",
        "xdata = wastage_graph\n",
        "ydata = unfulfilled_graph\n",
        "ax.scatter3D(zdata, ydata, xdata, c=xdata);"
      ],
      "execution_count": 6,
      "outputs": [
        {
          "output_type": "display_data",
          "data": {
            "image/png": "[encoded data removed]",
            "text/plain": [
              "<Figure size 432x288 with 1 Axes>"
            ]
          },
          "metadata": {
            "needs_background": "light"
          }
        }
      ]
    },
    {
      "cell_type": "markdown",
      "source": [
        "MODEL TO SIMULATE POINT ESTIMATES"
      ],
      "metadata": {
        "id": "uNyyMaZEheuO"
      }
    },
    {
      "cell_type": "code",
      "source": [
        "from scipy.stats import poisson\n",
        "def simulation_model_pe(max_stock,stock_arrival):\n",
        "  wastage_pe=[]\n",
        "  unfullfilled_pe=[]\n",
        "  life_of_product=80\n",
        "  available_stock=max_stock \n",
        "  stocks =[0]*(life_of_product+1)\n",
        "  stocks[-1] = max_stock \n",
        "  stock_arrival=5\n",
        "  required_exp_date=30\n",
        "  demand = 0\n",
        "  unfullfilled_days=0\n",
        "  wastage_array=[]\n",
        "  wastage=0\n",
        "  for z in range(100):\n",
        "    for m in range(91):\n",
        "      for i in range(stock_arrival):\n",
        "        #calculating the wastage in the process and appending it into the array\n",
        "        wastage += sum(stocks[:required_exp_date])\n",
        "        wastage_array.append(wastage)\n",
        "        # simulating the distribution of the demand\n",
        "        day_demand = poisson.rvs(mu=150)\n",
        "        demand+= day_demand\n",
        "        available_stock -= wastage\n",
        "        # when avaialable stock is less than daydemand\n",
        "        if available_stock < day_demand:\n",
        "          unfullfilled_days += 1\n",
        "          available_stock = 0\n",
        "        else:\n",
        "          available_stock-=day_demand\n",
        "        #discarding the stock have expiry date less than or equal to 30\n",
        "        for j in range(len(stocks)-1,required_exp_date-1,-1):\n",
        "          if stocks[j] >= day_demand:\n",
        "            stocks[j] -= day_demand\n",
        "            day_demand = 0\n",
        "            break\n",
        "          else:\n",
        "            day_demand -= stocks[j]\n",
        "            stocks[j] = 0\n",
        "        for k in range(1, len(stocks)):\n",
        "          stocks[k-1] = stocks[k]\n",
        "        stocks[-1] = 0\n",
        "      if available_stock == 0:\n",
        "        stocks[-1] = max_stock\n",
        "      #Calculating the wastage\n",
        "      else:\n",
        "        stocks[-1] = demand + wastage\n",
        "      wastage = 0\n",
        "      for l in range(required_exp_date):\n",
        "        stocks[l] = 0\n",
        "      available_stock = max_stock\n",
        "    wastage_pe.append(sum(wastage_array))\n",
        "    wastage_array=[]\n",
        "    unfullfilled_pe.append(unfullfilled_days)\n",
        "    unfulfilled_days=0\n",
        "  return   wastage_pe,unfullfilled_pe\n"
      ],
      "metadata": {
        "id": "Zf7R821gZfLA"
      },
      "execution_count": 7,
      "outputs": []
    },
    {
      "cell_type": "code",
      "source": [
        "wastage_pe,unfullfilled_pe= simulation_model(850,5)"
      ],
      "metadata": {
        "id": "sd3Rc3MLZs30"
      },
      "execution_count": 8,
      "outputs": []
    },
    {
      "cell_type": "code",
      "source": [
        "import scipy.stats as stats\n",
        "import math\n",
        "mean=np.mean(wastage_pe)\n",
        "z = stats.norm.ppf(q=0.975)\n",
        "x= z*(np.std(wastage_pe))/math.sqrt(100)\n",
        "ci = (mean-x,mean+x)\n",
        "print('the expected average wastage',mean)\n",
        "print('95% confidence interval',ci)"
      ],
      "metadata": {
        "colab": {
          "base_uri": "https://localhost:8080/"
        },
        "id": "ja6qlvlMnnpV",
        "outputId": "26cdb42a-da4d-4cff-c025-bdd6b676f5e7"
      },
      "execution_count": 9,
      "outputs": [
        {
          "output_type": "stream",
          "name": "stdout",
          "text": [
            "the expected average wastage 1091.1868131868132\n",
            "95% confidence interval (353.53769387003535, 1828.835932503591)\n"
          ]
        }
      ]
    },
    {
      "cell_type": "code",
      "source": [
        "import scipy.stats as stats\n",
        "import math\n",
        "mean=np.mean(unfullfilled_pe)\n",
        "z = stats.norm.ppf(q=0.975)\n",
        "x= z*(np.std(unfullfilled_pe))/math.sqrt(100)\n",
        "ci = (mean-x,mean+x)\n",
        "print('the expected average wastage',mean)\n",
        "print('95% confidence interval',ci)"
      ],
      "metadata": {
        "id": "YsevBAeAoCRD"
      },
      "execution_count": null,
      "outputs": []
    }
  ]
}